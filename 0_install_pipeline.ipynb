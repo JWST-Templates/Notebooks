{
 "cells": [
  {
   "cell_type": "markdown",
   "id": "68225561",
   "metadata": {},
   "source": [
    "# This notebook shows you how to install the JWST pipeline to reduce your JWST data.\n",
    "By the ERS TEMPLATES team, early draft, Sept 2022.  \n",
    "jrigby and jcathey, based on notebooks from stsci"
   ]
  },
  {
   "cell_type": "markdown",
   "id": "79977268",
   "metadata": {},
   "source": [
    "**First**, make sure you have a recent installation of conda.  You can choose either [anaconda](https://docs.anaconda.com/anaconda/install/) or [miniconda](https://docs.conda.io/en/latest/miniconda.html).  Personally Jane likes miniconda because it's slim and quick to install."
   ]
  },
  {
   "cell_type": "markdown",
   "id": "71c00e4e",
   "metadata": {},
   "source": [
    "**Second**, *in a terminal window*, make a new conda environment for the jwst pipeline.  A new environment keeps the dependencies happy.  (You may need to type *conda activate* first.)"
   ]
  },
  {
   "cell_type": "code",
   "execution_count": 1,
   "id": "3a5a2bb3",
   "metadata": {
    "scrolled": false
   },
   "outputs": [
    {
     "ename": "SyntaxError",
     "evalue": "invalid syntax (2241826218.py, line 1)",
     "output_type": "error",
     "traceback": [
      "\u001b[0;36m  Input \u001b[0;32mIn [1]\u001b[0;36m\u001b[0m\n\u001b[0;31m    conda create -n jwst_env python\u001b[0m\n\u001b[0m          ^\u001b[0m\n\u001b[0;31mSyntaxError\u001b[0m\u001b[0;31m:\u001b[0m invalid syntax\n"
     ]
    }
   ],
   "source": [
    "conda create -n jwst_pipe python\n",
    "conda activate jwst_pipe\n",
    "pip install jwst"
   ]
  },
  {
   "cell_type": "markdown",
   "id": "21202761",
   "metadata": {},
   "source": [
    "**Third**, set up the the Calibration References Data System (CRDS). To do so:\n",
    "- Make a new directory to hold the calibration files.  Mine is \"/Users/jrrigby1/crds__pub_cache/\"\n",
    "- Edit this file if you're using anaconda :  ~/anaconda3/etc/profile.d/conda.csh \n",
    "- **OR** this file if you're using miniconda: ~/miniforge3/etc/profile.d/conda.csh\n",
    "- Add these next two lines to the conda.csh file:"
   ]
  },
  {
   "cell_type": "code",
   "execution_count": null,
   "id": "b0a30d2c",
   "metadata": {},
   "outputs": [],
   "source": [
    "setenv CRDS_PATH \"/Users/myself/crds__pub_cache\"  # the new dir you made\n",
    "setenv CRDS_SERVER_URL \"https://jwst-crds-pub.stsci.edu\" # RIGHT, the PUBLIC (PUB) server"
   ]
  },
  {
   "cell_type": "markdown",
   "id": "767a5192",
   "metadata": {},
   "source": [
    "**Read the warning** in the red box on this [JDox page](https://jwst-docs.stsci.edu/jwst-science-calibration-pipeline-overview/jwst-data-calibration-reference-files), about making sure you point at the right CRDS server.  (We have asked STScI if they would consider adding error checking to the pipeline itself.)"
   ]
  },
  {
   "cell_type": "markdown",
   "id": "dd4ee0c8",
   "metadata": {},
   "source": [
    "Alternatively to this third step, you can set these two environmental variables directly in your Jupyter notebooks that call the pipeline:"
   ]
  },
  {
   "cell_type": "code",
   "execution_count": null,
   "id": "c5b2c499",
   "metadata": {},
   "outputs": [],
   "source": [
    "os.environ[\"CRDS_PATH\"] = \"/user/myself/crds_cache\"\n",
    "os.environ[\"CRDS_SERVER_URL\"] = \"https://jwst-crds-pub.stsci.edu\""
   ]
  },
  {
   "cell_type": "markdown",
   "id": "629eeb76",
   "metadata": {},
   "source": [
    "The first time the jwst pipeline runs, it will grab the necessary CRDS refernce files.  Make sure you have a good internet connection -- expect it to take several hours, and fill tens of gigabytes."
   ]
  },
  {
   "cell_type": "markdown",
   "id": "a1715a4e",
   "metadata": {},
   "source": [
    "**Last step:** In a terminal, switch to the new jwst conda environment, and open Jupyter:"
   ]
  },
  {
   "cell_type": "code",
   "execution_count": null,
   "id": "3bf257e5",
   "metadata": {},
   "outputs": [],
   "source": [
    "conda activate jwst_pipe\n",
    "jupyter notebook"
   ]
  },
  {
   "cell_type": "markdown",
   "id": "192f09bf",
   "metadata": {},
   "source": [
    "**You are now ready to run the JWST pipeline!**  In these examples, the pipeline is called by Jupyter notebooks.  You could alternately run the pipeline from python scripts, or from the command line.  "
   ]
  }
 ],
 "metadata": {
  "kernelspec": {
   "display_name": "Python 3 (ipykernel)",
   "language": "python",
   "name": "python3"
  },
  "language_info": {
   "codemirror_mode": {
    "name": "ipython",
    "version": 3
   },
   "file_extension": ".py",
   "mimetype": "text/x-python",
   "name": "python",
   "nbconvert_exporter": "python",
   "pygments_lexer": "ipython3",
   "version": "3.9.13"
  }
 },
 "nbformat": 4,
 "nbformat_minor": 5
}
