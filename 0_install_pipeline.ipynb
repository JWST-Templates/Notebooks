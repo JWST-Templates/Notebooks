{
 "cells": [
  {
   "cell_type": "markdown",
   "id": "603fb4a0",
   "metadata": {},
   "source": [
    "# This notebook shows you how to install the JWST pipeline, which you'll need to reduce your JWST data.\n",
    "By the ERS TEMPLATES team, early draft, Sept 2022.  \n",
    "jrigby and jcathey, based on notebooks from stsci"
   ]
  },
  {
   "cell_type": "markdown",
   "id": "e62878de",
   "metadata": {},
   "source": [
    "**First**, make sure you have a recent installation of conda.  You can choose either [anaconda](https://docs.anaconda.com/anaconda/install/) or [miniconda](https://docs.conda.io/en/latest/miniconda.html).  Personally Jane likes miniconda because it's slim and quick to install."
   ]
  },
  {
   "cell_type": "markdown",
   "id": "03fddef4",
   "metadata": {},
   "source": [
    "**Second**, *in a terminal window*, make a new conda environment for the jwst pipeline.  A new environment keeps the dependencies happy.  (You may need to type *conda activate* first.)"
   ]
  },
  {
   "cell_type": "markdown",
   "id": "73bc7bd9",
   "metadata": {},
   "source": [
    "    conda create -n jwst_pipe python\n",
    "    conda activate jwst_pipe\n",
    "    pip install jwst"
   ]
  },
  {
   "cell_type": "markdown",
   "id": "9cca5b0b",
   "metadata": {},
   "source": [
    "**Third**, set up the the Calibration References Data System (CRDS). To do so:\n",
    "- Make a new directory to hold the calibration files.  Mine is \"/Users/jrrigby1/crds__pub_cache/\"\n",
    "- Edit this file if you're using anaconda :  ~/anaconda3/etc/profile.d/conda.csh \n",
    "- **OR** this file if you're using miniconda: ~/miniforge3/etc/profile.d/conda.csh\n",
    "- Add these next two lines to the conda.csh file:"
   ]
  },
  {
   "cell_type": "markdown",
   "id": "70eac37d",
   "metadata": {},
   "source": [
    "    setenv CRDS_PATH \"/Users/myself/crds_cache/jwst_pub\"  # the path to the new dir you made\n",
    "    setenv CRDS_SERVER_URL \"https://jwst-crds-pub.stsci.edu\" # RIGHT, the PUBLIC (PUB) server"
   ]
  },
  {
   "cell_type": "markdown",
   "id": "dcadad71",
   "metadata": {},
   "source": [
    "**Read the warning** in the red box on this [JDox page](https://jwst-docs.stsci.edu/jwst-science-calibration-pipeline-overview/jwst-data-calibration-reference-files), about making sure you point at the right CRDS server.  (We have asked STScI if they would consider adding error checking to the pipeline itself.)"
   ]
  },
  {
   "cell_type": "markdown",
   "id": "200dd041",
   "metadata": {},
   "source": [
    "Alternatively to this third step, you can set these two environmental variables directly in your Jupyter notebooks that call the pipeline:"
   ]
  },
  {
   "cell_type": "markdown",
   "id": "e3683dd3",
   "metadata": {},
   "source": [
    "    os.environ[\"CRDS_PATH\"] = \"/Users/myself/crds_cache/jwst_pub\"\n",
    "    os.environ[\"CRDS_SERVER_URL\"] = \"https://jwst-crds-pub.stsci.edu\""
   ]
  },
  {
   "cell_type": "markdown",
   "id": "29187fb9",
   "metadata": {},
   "source": [
    "The first time the jwst pipeline runs, it will grab the necessary CRDS refernce files.  Make sure you have a good internet connection -- expect it to take several hours, and fill tens of gigabytes."
   ]
  },
  {
   "cell_type": "markdown",
   "id": "36b4b5bd",
   "metadata": {},
   "source": [
    "**Last step:** In a terminal, switch to the new jwst conda environment, and open Jupyter:"
   ]
  },
  {
   "cell_type": "markdown",
   "id": "68e265ef",
   "metadata": {},
   "source": [
    "    conda activate jwst_pipe\n",
    "    jupyter notebook"
   ]
  },
  {
   "cell_type": "markdown",
   "id": "8c246467",
   "metadata": {},
   "source": [
    "**You are now ready to run the JWST pipeline!**  In these examples, the pipeline is called by Jupyter notebooks.  You could alternately run the pipeline from python scripts, or from the command line.  "
   ]
  }
 ],
 "metadata": {
  "kernelspec": {
   "display_name": "Python 3 (ipykernel)",
   "language": "python",
   "name": "python3"
  },
  "language_info": {
   "codemirror_mode": {
    "name": "ipython",
    "version": 3
   },
   "file_extension": ".py",
   "mimetype": "text/x-python",
   "name": "python",
   "nbconvert_exporter": "python",
   "pygments_lexer": "ipython3",
   "version": "3.9.12"
  }
 },
 "nbformat": 4,
 "nbformat_minor": 5
}
