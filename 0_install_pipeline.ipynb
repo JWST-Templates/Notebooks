{
 "cells": [
  {
   "cell_type": "markdown",
   "id": "603fb4a0",
   "metadata": {},
   "source": [
    "# This notebook shows you how to install the JWST pipeline, which you'll need to reduce your JWST data.\n",
    "By the ERS TEMPLATES team, Nov 2022.  \n",
    "J. Rigby, J. Cathey, & T. Hutchison; based on notebooks from STScI."
   ]
  },
  {
   "cell_type": "markdown",
   "id": "13686ea1-bf60-4da1-9cd5-755a3e0b2629",
   "metadata": {},
   "source": [
    "--------\n",
    "## Recommended Installation Procedure"
   ]
  },
  {
   "cell_type": "markdown",
   "id": "e62878de",
   "metadata": {},
   "source": [
    "**First**, make sure you have a recent installation of conda.  You can choose either [anaconda](https://docs.anaconda.com/anaconda/install/) or [miniconda](https://docs.conda.io/en/latest/miniconda.html).  Personally Jane likes miniconda because it's slim and quick to install."
   ]
  },
  {
   "cell_type": "markdown",
   "id": "03fddef4",
   "metadata": {},
   "source": [
    "**Second**, make a new conda environment for the jwst pipeline.  A new environment keeps the dependencies happy.  We simplified this process for you by creating a `.yml` file that you can use to create the environment *and* install all of the necessary software.  Download the `jwst-pipeline.yml` file and place it somewhere you can find it.  Then, type the following *in a terminal window that's pointing to where the `.yml` file is located.*"
   ]
  },
  {
   "cell_type": "markdown",
   "id": "73bc7bd9",
   "metadata": {},
   "source": [
    "    conda env create -f jwst-pipeline.yml "
   ]
  },
  {
   "cell_type": "markdown",
   "id": "af4e876c-8180-4fd2-bf73-30e234c1bc66",
   "metadata": {},
   "source": [
    "This will create a conda environment named `jwst_pipe` and all of the packages you need (with their specific versions) will be installed.  Like we mentioned above, make sure your terminal window is pointed wherever you've downloaded the `jwst-pipeline.yml` file (you can check this by doing `ls`), so it knows what you're talking about."
   ]
  },
  {
   "cell_type": "markdown",
   "id": "9cca5b0b",
   "metadata": {},
   "source": [
    "**Third**, set up the the Calibration References Data System (CRDS). To do so:\n",
    "- Make a new directory to hold the calibration files.  Example: `/Users/myself/crds_cache/jwst_ops/`\n",
    "- Edit this file if you're using anaconda :  `/Users/myself/anaconda3/etc/profile.d/conda.csh `\n",
    "- **OR** this file if you're using miniconda: `/Users/myself/miniforge3/etc/profile.d/conda.csh`\n",
    "- Add these next two lines to the `conda.csh` file:"
   ]
  },
  {
   "cell_type": "markdown",
   "id": "70eac37d",
   "metadata": {},
   "source": [
    "    setenv CRDS_PATH \"/Users/myself/crds_cache/jwst_ops\"  # the path to the new dir you made\n",
    "    setenv CRDS_SERVER_URL \"https://jwst-crds.stsci.edu\"  # the correct STScI server"
   ]
  },
  {
   "cell_type": "markdown",
   "id": "dcadad71",
   "metadata": {},
   "source": [
    "***Quick Note:*** in the red box on this [JDox page](https://jwst-docs.stsci.edu/jwst-science-calibration-pipeline-overview/jwst-data-calibration-reference-files), STScI talks about about making sure you point at the right CRDS server.  (We have asked STScI if they would consider adding error checking to the pipeline itself.)\n",
    ">\n",
    ">There have been rumors that the public server (\"jwst-crds-pub.stsci.edu\") will soon stop being used/updated by them, so to circumvent that we're now pointing to the JWST Operational Pipeline (\"ops\") server instead."
   ]
  },
  {
   "cell_type": "markdown",
   "id": "200dd041",
   "metadata": {},
   "source": [
    "Alternatively to this third step, you can set these two environmental variables directly in your Jupyter notebooks that call the pipeline:"
   ]
  },
  {
   "cell_type": "markdown",
   "id": "e3683dd3",
   "metadata": {},
   "source": [
    "    os.environ[\"CRDS_PATH\"] = \"/Users/myself/crds_cache/jwst_ops\"\n",
    "    os.environ[\"CRDS_SERVER_URL\"] = \"https://jwst-crds.stsci.edu\""
   ]
  },
  {
   "cell_type": "markdown",
   "id": "29187fb9",
   "metadata": {},
   "source": [
    "The first time the jwst pipeline runs, it will grab the necessary CRDS reference files.  Make sure you have a good internet connection -- expect it to take several hours, and fill tens of gigabytes."
   ]
  },
  {
   "cell_type": "markdown",
   "id": "36b4b5bd",
   "metadata": {},
   "source": [
    "**Last step:** In a terminal, switch to the new jwst conda environment, and open Jupyter:"
   ]
  },
  {
   "cell_type": "markdown",
   "id": "68e265ef",
   "metadata": {},
   "source": [
    "    conda activate jwst_pipe\n",
    "    jupyter notebook"
   ]
  },
  {
   "cell_type": "markdown",
   "id": "8c246467",
   "metadata": {},
   "source": [
    "**You are now ready to run the JWST pipeline!** In these examples, the pipeline is called by Jupyter notebooks.  You could alternately run the pipeline from python scripts, or from the command line.  "
   ]
  },
  {
   "cell_type": "markdown",
   "id": "e993dfd9-e5fb-444f-adc3-f67c3b996732",
   "metadata": {},
   "source": [
    ".  \n",
    ".  \n",
    ".  \n",
    "  \n",
    "-----------\n",
    "----------"
   ]
  },
  {
   "cell_type": "markdown",
   "id": "0bc2194c-30c6-4d4b-9afc-c8ed6bfa7bf7",
   "metadata": {},
   "source": [
    "<div class=\"alert alert-block alert-warning\">\n",
    "    \n",
    "<b>Note:</b> To ensure you have a smooth install and a working pipeline run (with minimal errors), we recommend you follow the installation procedure above.\n",
    "\n",
    "</div>"
   ]
  },
  {
   "cell_type": "markdown",
   "id": "2a055fd1-9285-4877-b7d8-2b82b136aa59",
   "metadata": {},
   "source": [
    "## Alternative Second Step (not the `.yml` file)\n",
    "If you would prefer to not use the `jwst-pipeline.yml` file in the creation of your conda environment and installation of the `jwst` software, below is an example of an alternative way to get set up.  However, we do note that this method may require more fine-tuning of packages and dependencies to make the pipeline run smoothly."
   ]
  },
  {
   "cell_type": "markdown",
   "id": "31eff5e2-16dc-459b-aaa7-6aee96cfff89",
   "metadata": {},
   "source": [
    ".  \n",
    "\n",
    "**Second**, in a terminal window, make a new conda environment for the jwst pipeline. A new environment keeps the dependencies happy. (You may need to type conda activate first.)"
   ]
  },
  {
   "cell_type": "markdown",
   "id": "7994068f-6da4-4ece-92f5-b6b2115f07c4",
   "metadata": {},
   "source": [
    "    conda create -n jwst_pipe python\n",
    "    conda activate jwst_pipe\n",
    "    pip install jwst"
   ]
  },
  {
   "cell_type": "markdown",
   "id": "557f5405-a602-4321-89b8-867653594d10",
   "metadata": {},
   "source": [
    "After this finishes in your terminal, next you will need to install the `jupyter lab` software in order to open these notebooks and run them.  You can do this using `conda`:"
   ]
  },
  {
   "cell_type": "markdown",
   "id": "1de6b4cf-8a8c-4366-904a-00fc592ddf12",
   "metadata": {},
   "source": [
    "    conda install jupyter lab"
   ]
  },
  {
   "cell_type": "markdown",
   "id": "62bb083a-2ab2-4842-9cbf-31f456d84aac",
   "metadata": {},
   "source": [
    "Now you can return to the instructions above and proceed to the **third** step."
   ]
  },
  {
   "cell_type": "markdown",
   "id": "8c9b92dc-678f-4076-8ce2-8dcf9be91f10",
   "metadata": {},
   "source": [
    "#### &mdash; *Debugging with this installation method:*\n",
    "If the pipeline fails after substituting this method for the second step and finishing out the rest of the installation and setup procedure specified above, one fix that our team found is to explicitly set the `certifi` package to the specific version that the `jwst` software needs.  As of Nov 2022, this is what you can do to fix this:"
   ]
  },
  {
   "cell_type": "markdown",
   "id": "4fb2e235-1814-4218-8e31-93ea0203ef1e",
   "metadata": {},
   "source": [
    "    pip install certifi=2022.5.18.1 -U"
   ]
  },
  {
   "cell_type": "markdown",
   "id": "2f4a8f6d-4672-436a-89ee-5bdf8de1525d",
   "metadata": {},
   "source": [
    "(We note that this is taken care of by the `.yml` file in the original step 2, if you don't want to deal with manually balancing dependencies.)"
   ]
  }
 ],
 "metadata": {
  "kernelspec": {
   "display_name": "Python 3 (ipykernel)",
   "language": "python",
   "name": "python3"
  },
  "language_info": {
   "codemirror_mode": {
    "name": "ipython",
    "version": 3
   },
   "file_extension": ".py",
   "mimetype": "text/x-python",
   "name": "python",
   "nbconvert_exporter": "python",
   "pygments_lexer": "ipython3",
   "version": "3.10.6"
  }
 },
 "nbformat": 4,
 "nbformat_minor": 5
}
