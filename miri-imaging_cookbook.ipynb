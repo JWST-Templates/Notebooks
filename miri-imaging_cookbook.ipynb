{
 "cells": [
  {
   "cell_type": "markdown",
   "id": "8b0c0906-135d-4a1e-8ecc-99350c282072",
   "metadata": {},
   "source": [
    "# MIRI Imaging Data Reduction Notebook"
   ]
  },
  {
   "cell_type": "markdown",
   "id": "fd73c3b3-1014-414f-8685-66cc94272d56",
   "metadata": {},
   "source": [
    "By the JWST TEMPLATES ERS Team \n",
    "\n",
    "Kedar A. Phadke\n",
    "\n",
    "Last updated: December 18th, 2023\n",
    "\n",
    "Tested by Lily Kettler\n",
    "\n",
    "Mostly compiled from JWebbinar 3: https://github.com/spacetelescope/jwebbinar_prep/tree/webbinar3\n",
    "and https://github.com/STScI-MIRI/Imaging_ExampleNB/blob/main/helpers/miri_clean.py (for de-striping)\n",
    "\n",
    "Requirements: Installation of JWST pipeline and data for MIRI Imaging. This notebook will show how to create stage 3 calibrated products from uncalibrated data products. Relevant sections can also be used for only running specific stages of the pipeline. For example, downloading level 2b products and running stage 3 section only. It is always better to ensure the CRDS pmap version is consistent throughout all stages\n",
    "\n",
    "We recommend to create different folders for different filters. For organizational purpose we assume all 'UNCAL' files using a particular filter are in a folder called 'uncal' in the current working directory for this notebook to work."
   ]
  },
  {
   "cell_type": "code",
   "execution_count": null,
   "id": "087c23f3-a23e-44e5-8cb1-c9bee89e293c",
   "metadata": {},
   "outputs": [],
   "source": [
    "\n",
    "# Packages that allow us to get information about objects:\n",
    "import asdf\n",
    "import copy\n",
    "import os\n",
    "import shutil\n",
    "import glob\n",
    "\n",
    "# Numpy library:\n",
    "import numpy as np\n",
    "# Astropy tools:\n",
    "from astropy.io import fits\n"
   ]
  },
  {
   "cell_type": "code",
   "execution_count": null,
   "id": "52074451-e248-495f-85ae-84e1e1f4760c",
   "metadata": {},
   "outputs": [],
   "source": [
    "import jwst\n",
    "\n",
    "print('Pipeline version:', jwst.__version__)\n",
    "\n",
    "# List of possible data quality flags\n",
    "from jwst import datamodels\n",
    "from jwst.datamodels import dqflags\n",
    "# To read association file\n",
    "import json"
   ]
  },
  {
   "cell_type": "code",
   "execution_count": null,
   "id": "b72508cb-6671-4cb8-a250-7f337b442b31",
   "metadata": {},
   "outputs": [],
   "source": [
    "#Uncomment below two lines if you have not defined CRDS elsewhere\n",
    "# os.environ[\"CRDS_PATH\"] = \"path to CRDS_cache\"   #Change this to appropriate path on your disk\n",
    "# os.environ[\"CRDS_SERVER_URL\"] = \"https://jwst-crds.stsci.edu\""
   ]
  },
  {
   "cell_type": "markdown",
   "id": "213912fb-871b-4773-9bef-40cfff75f32f",
   "metadata": {},
   "source": [
    "## Stage 1"
   ]
  },
  {
   "cell_type": "code",
   "execution_count": null,
   "id": "2285221a-1cda-4829-a3c6-60e0910c9479",
   "metadata": {},
   "outputs": [],
   "source": [
    "# The entire calwebb_detector1 pipeline\n",
    "from jwst.pipeline import calwebb_detector1\n",
    "\n",
    "# Individual steps that make up calwebb_detector1\n",
    "from jwst.group_scale import GroupScaleStep\n",
    "from jwst.dq_init import DQInitStep\n",
    "from jwst.saturation import SaturationStep\n",
    "from jwst.firstframe import FirstFrameStep\n",
    "from jwst.lastframe import LastFrameStep\n",
    "from jwst.reset import ResetStep\n",
    "from jwst.linearity import LinearityStep\n",
    "from jwst.rscd import RscdStep\n",
    "from jwst.dark_current import DarkCurrentStep                                                                                   \n",
    "from jwst.refpix import RefPixStep\n",
    "from jwst.jump import JumpStep\n",
    "from jwst.ramp_fitting import RampFitStep\n",
    "from jwst.persistence import PersistenceStep\n",
    "from jwst.gain_scale import GainScaleStep\n",
    "from jwst.ipc import IPCStep "
   ]
  },
  {
   "cell_type": "code",
   "execution_count": null,
   "id": "a5e73ce9-a64c-42e1-adb1-b874498f94f9",
   "metadata": {},
   "outputs": [],
   "source": [
    "output_dir = './stage1/'\n",
    "\n",
    "#Directory names for individual steps. If you are not interested in saving them please comment each line after this\n",
    "output_dir_dq = output_dir+'dq/'\n",
    "output_dir_saturation = output_dir+'saturation/'\n",
    "output_dir_ipc = output_dir+'ipc/'\n",
    "output_dir_firstframe = output_dir+'firstframe/'\n",
    "output_dir_lastframe = output_dir+'lastframe/'\n",
    "output_dir_reset = output_dir+'reset/'\n",
    "output_dir_linearity = output_dir+'linearity/'\n",
    "output_dir_rscd = output_dir+'rscd/'\n",
    "output_dir_darkcurrent = output_dir+'darkcurrent/'\n",
    "output_dir_refpix = output_dir+'refpix/'\n",
    "output_dir_jump = output_dir+'jump/'\n",
    "output_dir_rampfitting = output_dir+'rampfitting/'\n",
    "output_dir_gainscale = output_dir+'gainscale/'"
   ]
  },
  {
   "cell_type": "code",
   "execution_count": null,
   "id": "3e02e7f0-8609-42bb-a5f5-1b438446e74e",
   "metadata": {},
   "outputs": [],
   "source": [
    "os.makedirs(output_dir, exist_ok=True)\n",
    "\n",
    "#same as previous cell\n",
    "os.makedirs(output_dir_dq, exist_ok=True)\n",
    "os.makedirs(output_dir_saturation, exist_ok=True)\n",
    "os.makedirs(output_dir_ipc, exist_ok=True)\n",
    "os.makedirs(output_dir_firstframe, exist_ok=True)\n",
    "os.makedirs(output_dir_lastframe, exist_ok=True)\n",
    "os.makedirs(output_dir_reset, exist_ok=True)\n",
    "os.makedirs(output_dir_linearity, exist_ok=True)\n",
    "os.makedirs(output_dir_rscd, exist_ok=True)\n",
    "os.makedirs(output_dir_darkcurrent, exist_ok=True)\n",
    "os.makedirs(output_dir_refpix, exist_ok=True)\n",
    "os.makedirs(output_dir_jump, exist_ok=True)\n",
    "os.makedirs(output_dir_rampfitting, exist_ok=True)\n",
    "os.makedirs(output_dir_gainscale, exist_ok=True)"
   ]
  },
  {
   "cell_type": "code",
   "execution_count": null,
   "id": "c1fc604b-142c-44a4-9bbf-71bfcc975337",
   "metadata": {},
   "outputs": [],
   "source": [
    "#If some parameters are known to have better results with certain value use the dictionary to edit those parameters\n",
    "parameter_dict = {\"dq_init\": {\"output_dir\": output_dir_dq,\"save_results\": True},\n",
    "                  \"saturation\": {\"output_dir\": output_dir_saturation,\"save_results\": True},\n",
    "                  \"ipc\": {\"output_dir\": output_dir_ipc,\"save_results\": True},\n",
    "                  \"firstframe\": {\"output_dir\": output_dir_firstframe,\"save_results\": True},\n",
    "                  \"lastframe\": {\"output_dir\": output_dir_lastframe,\"save_results\": True},\n",
    "                  \"reset\": {\"output_dir\": output_dir_reset,\"save_results\": True},\n",
    "                  \"linearity\": {\"output_dir\": output_dir_linearity,\"save_results\": True},\n",
    "                  \"rscd\": {\"output_dir\": output_dir_rscd,\"save_results\": True},\n",
    "                  \"dark_current\": {\"output_dir\": output_dir_darkcurrent,\"save_results\": True},\n",
    "                  \"refpix\": {\"output_dir\": output_dir_refpix,\"save_results\": True,\"use_side_ref_pixels\":False},\n",
    "                  \"jump\": {\"rejection_threshold\": 5,\"output_dir\": output_dir_jump,\"save_results\": True}, # if one sees CR not being flagged properly, this is the step to modify\n",
    "                  \"ramp_fit\": {\"output_dir\": output_dir_rampfitting,\"save_results\": True},\n",
    "                  \"gain_scale\": {\"output_dir\": output_dir_gainscale,\"save_results\": True},\n",
    "                 }"
   ]
  },
  {
   "cell_type": "code",
   "execution_count": null,
   "id": "067e6476-b998-4b42-b907-924806ce134c",
   "metadata": {},
   "outputs": [],
   "source": [
    "#Directory where the uncalibrated files are\n",
    "input_dir='./uncal/'"
   ]
  },
  {
   "cell_type": "code",
   "execution_count": null,
   "id": "f2878c1f-f722-4d4b-bf95-b56ba6954d87",
   "metadata": {},
   "outputs": [],
   "source": [
    "list_files=glob.glob(input_dir+'*_uncal.fits')\n",
    "print('No of files to be processed:', len(list_files))"
   ]
  },
  {
   "cell_type": "code",
   "execution_count": null,
   "id": "194ee24d-b0aa-415b-92c3-bd04e708e608",
   "metadata": {},
   "outputs": [],
   "source": [
    "for i in range(len(list_files)):    \n",
    "    miri_uncal_file = list_files[i]\n",
    "    print('File currently being processed:',miri_uncal_file)\n",
    "    # Call the pipeline method using the dictionary\n",
    "    miri_output = calwebb_detector1.Detector1Pipeline.call(miri_uncal_file, output_dir=output_dir, save_results=True, steps=parameter_dict,logcfg='stage1-log.cfg')\n",
    "    "
   ]
  },
  {
   "cell_type": "markdown",
   "id": "7222577b-00ab-4350-a285-e44f1823d374",
   "metadata": {},
   "source": [
    "## Stage 2"
   ]
  },
  {
   "cell_type": "code",
   "execution_count": null,
   "id": "ce9b12a1-144e-4790-9cc5-c98bb4901e6b",
   "metadata": {},
   "outputs": [],
   "source": [
    "# The entire calwebb_image2 pipeline\n",
    "from jwst.pipeline import calwebb_image2\n",
    "\n",
    "# Individual steps that make up calwebb_image2\n",
    "from jwst.background import BackgroundStep\n",
    "from jwst.assign_wcs import AssignWcsStep\n",
    "from jwst.flatfield import FlatFieldStep\n",
    "from jwst.photom import PhotomStep\n",
    "from jwst.resample import ResampleStep"
   ]
  },
  {
   "cell_type": "code",
   "execution_count": null,
   "id": "3a20aa7a-ff33-4e5a-9737-cb04ab93a934",
   "metadata": {},
   "outputs": [],
   "source": [
    "output_dir = './stage2/'\n",
    "output_dir_bkg = output_dir+'bkg/'\n",
    "output_dir_assign_wcs = output_dir+'assign_wcs/'\n",
    "output_dir_flatfield = output_dir+'flatfield/'\n",
    "output_dir_photom = output_dir+'photom/'\n",
    "output_dir_resample = output_dir+'resample/'"
   ]
  },
  {
   "cell_type": "code",
   "execution_count": null,
   "id": "fabca62a-cec0-4ea7-9bc6-406faa2f423b",
   "metadata": {},
   "outputs": [],
   "source": [
    "os.makedirs(output_dir, exist_ok=True)\n",
    "os.makedirs(output_dir_bkg, exist_ok=True)\n",
    "os.makedirs(output_dir_assign_wcs, exist_ok=True)\n",
    "os.makedirs(output_dir_flatfield, exist_ok=True)\n",
    "os.makedirs(output_dir_photom, exist_ok=True)\n",
    "os.makedirs(output_dir_resample, exist_ok=True)"
   ]
  },
  {
   "cell_type": "code",
   "execution_count": null,
   "id": "6d64bee4-418c-4f99-9b97-813c097c72a8",
   "metadata": {},
   "outputs": [],
   "source": [
    "input_dir='./stage1/'"
   ]
  },
  {
   "cell_type": "code",
   "execution_count": null,
   "id": "f6b95baf-fb68-43e4-b1b7-ba6cd834277d",
   "metadata": {},
   "outputs": [],
   "source": [
    "os.system('cp '+input_dir+'*_rate.fits '+output_dir+'')"
   ]
  },
  {
   "cell_type": "code",
   "execution_count": null,
   "id": "f7d958f2-bff1-4367-85cc-5db9fda59b24",
   "metadata": {},
   "outputs": [],
   "source": [
    "# Create and open the association file and load into json object\n",
    "os.system('asn_from_list -o level2_asn.json -r DMSLevel2bBase '+output_dir+'*_rate.fits')\n",
    "asn_file ='level2_asn.json'"
   ]
  },
  {
   "cell_type": "code",
   "execution_count": null,
   "id": "5d2d239e-7818-4396-8c2d-8b33664682a1",
   "metadata": {},
   "outputs": [],
   "source": [
    "#If some parameters are known to have better results with certain value use the dictionary\n",
    "parameter_dict = {\"bkg_subtract\": {\"sigma\":4,\"output_dir\": output_dir_bkg,\"save_results\": True},\n",
    "                  \"assign_wcs\": {\"output_dir\": output_dir_assign_wcs,\"save_results\": True},\n",
    "                  \"flat_field\": {\"output_dir\": output_dir_flatfield,\"save_results\": True},\n",
    "                  \"photom\": {\"output_dir\": output_dir_photom,\"save_results\": True},\n",
    "                  \"resample\": {\"pixfrac\": 1.0, \"output_dir\": output_dir_resample,\"save_results\": True},\n",
    "                 }"
   ]
  },
  {
   "cell_type": "code",
   "execution_count": null,
   "id": "8d152008-9443-4ceb-912c-33f0928bc070",
   "metadata": {},
   "outputs": [],
   "source": [
    "call_output = calwebb_image2.Image2Pipeline.call(asn_file, output_dir=output_dir, save_results=True, steps=parameter_dict,logcfg='stage2-log.cfg')\n"
   ]
  },
  {
   "cell_type": "code",
   "execution_count": null,
   "id": "cb678532-90b4-47ed-9d38-d40b79acbc10",
   "metadata": {},
   "outputs": [],
   "source": [
    "os.system('rm '+output_dir+'*_rate.fits')"
   ]
  },
  {
   "cell_type": "markdown",
   "id": "f33eb996-6b4c-46a6-8d82-426ce3e79aa4",
   "metadata": {},
   "source": [
    "## Stage 3"
   ]
  },
  {
   "cell_type": "code",
   "execution_count": null,
   "id": "ad16b3bc-759b-427f-8a76-7af0a725f6bd",
   "metadata": {},
   "outputs": [],
   "source": [
    "# The entire calwebb_image3 pipeline\n",
    "from jwst.pipeline import calwebb_image3\n",
    "\n",
    "# Individual steps that make up calwebb_image3\n",
    "from jwst.tweakreg import TweakRegStep\n",
    "from jwst.skymatch import SkyMatchStep\n",
    "from jwst.outlier_detection import OutlierDetectionStep\n",
    "from jwst.resample import ResampleStep\n",
    "from jwst.source_catalog import SourceCatalogStep\n",
    "from jwst.associations import asn_from_list\n",
    "from jwst.associations.lib.rules_level3_base import DMS_Level3_Base\n"
   ]
  },
  {
   "cell_type": "code",
   "execution_count": null,
   "id": "610d12d9-ed1d-4a8c-ac0a-35b5665657ce",
   "metadata": {},
   "outputs": [],
   "source": [
    "#For de-striping\n",
    "from astropy.modeling import models, fitting\n",
    "\n",
    "from astropy.stats import sigma_clipped_stats\n",
    "from astropy.convolution import Gaussian1DKernel, convolve\n",
    "from astropy.wcs import WCS"
   ]
  },
  {
   "cell_type": "markdown",
   "id": "22cb16ae-35d8-4aa5-8754-670eda3d42c6",
   "metadata": {},
   "source": [
    "Below two functions are from https://github.com/STScI-MIRI/Imaging_ExampleNB/blob/main/helpers/miri_clean.py\n",
    "For column and row median removal."
   ]
  },
  {
   "cell_type": "code",
   "execution_count": null,
   "id": "ebe62127-d1c8-44be-a617-4c32c80cc20f",
   "metadata": {},
   "outputs": [],
   "source": [
    "def cal_column_clean(mfile, exclude_above=None):\n",
    "    \"\"\"\n",
    "    Remove the median of each column to suppress residual detector artifacts\n",
    "\n",
    "    works on cal images\n",
    "\n",
    "    Parameters\n",
    "    ----------\n",
    "    mfile : str\n",
    "        filename with a MIRI cal image (i.e., xxx_cal.fits)\n",
    "    exclude_above : float\n",
    "        value above which to exclude data from calculating the column median\n",
    "    \"\"\"\n",
    "    # Create kernel\n",
    "    g = Gaussian1DKernel(stddev=65)\n",
    "    #g = Gaussian1DKernel(stddev=35)\n",
    "\n",
    "    # read in the final rate image\n",
    "    rdata = datamodels.open(mfile)\n",
    "    rimage = copy.deepcopy(rdata.data)\n",
    "\n",
    "    # use the cal file dq flags as only after flat fielding are the outside the\n",
    "    # FOV regions flagged\n",
    "    bdata = rdata.dq & dqflags.pixel[\"DO_NOT_USE\"] > 0\n",
    "\n",
    "    colimage = np.zeros(rimage.shape)\n",
    "\n",
    "    # mask all the do_not_use data with NaNs\n",
    "    rimage[bdata] = np.NaN\n",
    "    # exclude that bright column near the right edge\n",
    "    rimage[:,1024:] = 0\n",
    "    # compute the median of each column\n",
    "    with warnings.catch_warnings():\n",
    "        warnings.filterwarnings(action=\"ignore\", message=\"All-NaN slice encountered\")\n",
    "        colmeds = np.nanmedian(rimage, axis=0)\n",
    "    # create a smoothed version to avoid removing large scale structure\n",
    "    colmeds_smooth = convolve(colmeds - np.nanmedian(colmeds), g)\n",
    "    # remove large scale structure from column medians\n",
    "    colmeds_sub = colmeds - colmeds_smooth\n",
    "    # make the 2D image version\n",
    "    for j in range(rdata.shape[0]):\n",
    "        colimage[j, :] = colmeds_sub\n",
    "    # NaN all the no data pixels so they are not included in the median\n",
    "    colimage[bdata] = np.NaN\n",
    "    # subtarct the mean as we only want to remove residuals\n",
    "    colimage -= np.nanmedian(colimage)\n",
    "    # zero all the no data pixels\n",
    "    colimage[bdata] = 0.0\n",
    "\n",
    "    rdata.data -= colimage\n",
    "\n",
    "    # save the new rateints and rate results\n",
    "    nfile = mfile.replace(\"cal.fits\", \"cccal.fits\")\n",
    "    rdata.save(nfile)\n",
    "\n",
    "\n",
    "def cal_row_clean(mfile, exclude_above=None):\n",
    "    \"\"\"\n",
    "    Remove the median of each row to suppress residual detector artifacts\n",
    "\n",
    "    works on cal images\n",
    "\n",
    "    Parameters\n",
    "    ----------\n",
    "    mfile : str\n",
    "        filename with a MIRI cal image (i.e., xxx_cal.fits)\n",
    "    exclude_above : float\n",
    "        value above which to exclude data from calculating the column median\n",
    "    \"\"\"\n",
    "    # Create kernel\n",
    "    g = Gaussian1DKernel(stddev=330)\n",
    "    #g = Gaussian1DKernel(stddev=150)\n",
    "\n",
    "    # read in the final cal image\n",
    "    rdata = datamodels.open(mfile)\n",
    "\n",
    "    # use the cal file dq flags as only after flat fielding are the outside the\n",
    "    # FOV regions flagged\n",
    "    bdata = rdata.dq & dqflags.pixel[\"DO_NOT_USE\"] > 0\n",
    "\n",
    "    rimage = copy.deepcopy(rdata.data)\n",
    "\n",
    "    rowimage = np.zeros(rdata.data.shape)\n",
    "\n",
    "    # mask all the do_not_use data with NaNs\n",
    "    rimage[bdata] = np.NaN\n",
    "    # also remove zeros due to 2nd+ integration bug\n",
    "    rimage[rimage == 0.0] = np.NaN\n",
    "    # mask data above a threshold\n",
    "    if exclude_above is not None:\n",
    "        rimage[rimage > exclude_above] = np.NaN\n",
    "    # exclude everything to the left of the imager FOV (basically the Lyot)\n",
    "    rimage[:, 0:325] = np.NaN\n",
    "    # exclude that bright column near the right edge\n",
    "    rimage[:,1024:] = 0\n",
    "    # compute the median of each column\n",
    "    with warnings.catch_warnings():\n",
    "        warnings.filterwarnings(action=\"ignore\", message=\"All-NaN slice encountered\")\n",
    "        rowmeds = np.nanmedian(rimage, axis=1)\n",
    "    # create a smoothed version to avoid removing large scale structure\n",
    "    rowmeds_smooth = convolve(rowmeds - np.nanmedian(rowmeds), g)\n",
    "    # remove large scale structure from column medians\n",
    "    rowmeds_sub = rowmeds - rowmeds_smooth\n",
    "    # make the 2D image version\n",
    "    for i in range(rimage.shape[1]):\n",
    "        rowimage[:, i] = rowmeds_sub\n",
    "    # NaN all the no data pixels so they are not included in the median\n",
    "    rowimage[bdata] = np.NaN\n",
    "    # subtarct the mean as we only want to remove residuals\n",
    "    rowimage -= np.nanmedian(rowimage)\n",
    "    # zero all the no data pixels\n",
    "    rowimage[bdata] = 0.0\n",
    "\n",
    "    rdata.data -= rowimage\n",
    "\n",
    "    # save the new rateints and rate results\n",
    "    nfile = mfile.replace(\"cccal.fits\", \"cccrcal.fits\")\n",
    "    rdata.save(nfile)\n"
   ]
  },
  {
   "cell_type": "code",
   "execution_count": null,
   "id": "0415af68-9597-4c86-8dfe-328f3661a3f7",
   "metadata": {},
   "outputs": [],
   "source": [
    "output_dir = './stage3/'\n",
    "output_dir_tweakreg = output_dir+'tweakreg/'\n",
    "output_dir_skymatch = output_dir+'skymatch/'\n",
    "output_dir_outlier_detection = output_dir+'outlier_detection/'\n",
    "output_dir_resample = output_dir+'resample/'\n",
    "output_dir_source_catalog = output_dir+'source_catalog/'\n",
    "\n",
    "os.makedirs(output_dir, exist_ok=True)\n",
    "os.makedirs(output_dir_tweakreg, exist_ok=True)\n",
    "os.makedirs(output_dir_skymatch, exist_ok=True)\n",
    "os.makedirs(output_dir_outlier_detection, exist_ok=True)\n",
    "os.makedirs(output_dir_resample, exist_ok=True)\n",
    "os.makedirs(output_dir_source_catalog, exist_ok=True)"
   ]
  },
  {
   "cell_type": "code",
   "execution_count": null,
   "id": "1f9d358e-b952-45c9-9baf-d5acde75999a",
   "metadata": {},
   "outputs": [],
   "source": [
    "input_dir='./stage2/'"
   ]
  },
  {
   "cell_type": "code",
   "execution_count": null,
   "id": "93ef601f-8040-4ecd-a58f-a8526906a015",
   "metadata": {},
   "outputs": [],
   "source": [
    "os.system('cp '+input_dir+'*_cal.fits '+output_dir+'')\n",
    "\n",
    "list_files=glob(output_dir+'*_cal.fits')\n"
   ]
  },
  {
   "cell_type": "code",
   "execution_count": null,
   "id": "e099a786-6abf-4a1a-b705-412974db7f96",
   "metadata": {},
   "outputs": [],
   "source": [
    "#Do de-striping\n",
    "for i in range(len(list_files)):\n",
    "\tcal_column_clean(list_files[i])\n",
    "\n",
    "list_files2=glob(output_dir+'*cccal.fits')\n",
    "\n",
    "for i in range(len(list_files2)):\n",
    "\tcal_row_clean(list_files2[i])"
   ]
  },
  {
   "cell_type": "code",
   "execution_count": null,
   "id": "45ec9a15-da47-450c-8b0a-fdc31a7ed093",
   "metadata": {},
   "outputs": [],
   "source": [
    "# Create and open the association file and load into json object\n",
    "\n",
    "os.system('asn_from_list -o level3_asn.json --product-name l3_results '+output_dir+'*_cccrcal.fits')\n",
    "#os.system('asn_from_list -o level3_asn.json --product-name l3_results '+output_dir+'*_cal.fits') # Use this if no de-striping is done\n",
    "\n",
    "asn_file ='level3_asn.json'"
   ]
  },
  {
   "cell_type": "code",
   "execution_count": null,
   "id": "94ff1143-e66c-46c5-a9c8-eea14372f75d",
   "metadata": {},
   "outputs": [],
   "source": [
    "#If some parameters are known to have better results with certain value use the dictionary\n",
    "parameter_dict = {\"tweakreg\": {\"snr_threshold\": 10.0, \"brightest\": 100,\"output_dir\": output_dir_tweakreg,\"save_results\": True,\"abs_refcat\":'GAIA_DR3'}, #kernel_fwhm can also be added for better centroiding\n",
    "                  \"skymatch\": {\"skip\":False,\"skymethod\":'local',\"output_dir\": output_dir_skymatch,\"save_results\": True,\"subtract\":True,\"match_down\":True},\n",
    "                  \"outlier_detection\": {\"output_dir\": output_dir_outlier_detection,\"save_results\": True},\n",
    "                  \"resample\": {\"pixfrac\": 1.0/4,\"output_dir\": output_dir_resample,\"save_results\": True}, #pixfrac can be higher if one wants lesser resolution\n",
    "                  \"source_catalog\": {\"snr_threshold\": 10.0,\"output_dir\": output_dir_source_catalog,\"save_results\": True}, \n",
    "                 }"
   ]
  },
  {
   "cell_type": "code",
   "execution_count": null,
   "id": "d0826547-f74f-4c69-9ce3-69ed405efb98",
   "metadata": {},
   "outputs": [],
   "source": [
    "call_output = calwebb_image3.Image3Pipeline.call(asn_file, output_dir=output_dir, save_results=True, steps=parameter_dict,logcfg='stage3-log.cfg')\n",
    "\n",
    "#os.system('rm '+output_dir+'*_cal.fits')"
   ]
  },
  {
   "cell_type": "code",
   "execution_count": null,
   "id": "a1077361-2b58-4ab9-ac0f-8a7568c06319",
   "metadata": {},
   "outputs": [],
   "source": []
  },
  {
   "cell_type": "markdown",
   "id": "bc228b6d-bd53-48bb-a1cc-e5e866916a15",
   "metadata": {},
   "source": [
    "We encountered an oblique CR hit for observations of SGAS 1226 and created a custom function to set the DQ values as 1 for the region from a DS9 region file. Below is a function for that purpose."
   ]
  },
  {
   "cell_type": "code",
   "execution_count": null,
   "id": "9ffc0faf-a410-4c8e-82e2-66cddd58c980",
   "metadata": {},
   "outputs": [],
   "source": [
    "#function to remove cosmic ray artifact from filters affected by the CR hit; inspired from the column and row de-trending functions   \n",
    "def cal_cr_remove(mfile,regfile):\n",
    "    \"\"\"\n",
    "    Remove the cosmic ray detector artifact where a previous cosmic ray makes certain pixels behave non-linearly\n",
    "    \n",
    "    Could be used to set any region as 'DO NOT USE' in the DQ array with a DS9 region file. \n",
    "\n",
    "    tested to work on cal images for now\n",
    "\n",
    "    Parameters\n",
    "    ----------\n",
    "    mfile : str\n",
    "        filename with a MIRI cal image (i.e., xxx_cal.fits)\n",
    "    regfile : str\n",
    "        region filename from ds9 covering the artifiact\n",
    "    \"\"\"\n",
    "    # read in the final image\n",
    "    cdata = datamodels.open(mfile)\n",
    "    # read the cosmic ray region file\n",
    "    cr_region=Regions.read(regfile,format='ds9')\n",
    "    #create a mask from the region file with same shape as image\n",
    "    im_shape=cdata.data.shape\n",
    "    cr_region1=cr_region[0]\n",
    "    cr_region_mask=cr_region1.to_mask()\n",
    "    masked_im=cr_region_mask.to_image(im_shape)\n",
    "    #change the dq values for cr affected region\n",
    "    index_cr=np.where(masked_im >= 1)\n",
    "    cdata.dq[index_cr] = 1\n",
    "    #cchange the values to 0 or nan for the affected region\n",
    "    cdata.data[index_cr] = 0\n",
    "    # save the new rateints and rate results\n",
    "    nfile = mfile.replace(\"cal.fits\", \"crstreak_fixcal.fits\")\n",
    "    cdata.save(nfile)\n"
   ]
  }
 ],
 "metadata": {
  "kernelspec": {
   "display_name": "Python 3 (ipykernel)",
   "language": "python",
   "name": "python3"
  },
  "language_info": {
   "codemirror_mode": {
    "name": "ipython",
    "version": 3
   },
   "file_extension": ".py",
   "mimetype": "text/x-python",
   "name": "python",
   "nbconvert_exporter": "python",
   "pygments_lexer": "ipython3",
   "version": "3.9.0"
  }
 },
 "nbformat": 4,
 "nbformat_minor": 5
}
